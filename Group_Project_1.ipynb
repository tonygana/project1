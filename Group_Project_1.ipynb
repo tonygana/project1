{
 "cells": [
  {
   "cell_type": "markdown",
   "id": "68b0d6f2",
   "metadata": {},
   "source": [
    "# Project 1\n",
    "\n",
    "---\n",
    "## Starting code"
   ]
  },
  {
   "cell_type": "code",
   "execution_count": 3,
   "id": "6587ae20",
   "metadata": {},
   "outputs": [],
   "source": [
    "# Dependencies and Setup\n",
    "import matplotlib.pyplot as plt\n",
    "import pandas as pd\n",
    "import numpy as np\n",
    "import requests\n",
    "import time\n",
    "from scipy.stats import linregress\n",
    "\n",
    "# Impor the OpenWeatherMap API key\n",
    "from API_keys import geoapify_key\n",
    "from API_keys import yelp_key\n",
    "from API_keys import google_key"
   ]
  },
  {
   "cell_type": "code",
   "execution_count": null,
   "id": "5f7e4001",
   "metadata": {},
   "outputs": [],
   "source": []
  },
  {
   "cell_type": "markdown",
   "id": "85fa4874",
   "metadata": {},
   "source": [
    "## Research Question 1: East Coast vs. West Coast"
   ]
  },
  {
   "cell_type": "code",
   "execution_count": null,
   "id": "37f2d58f",
   "metadata": {},
   "outputs": [],
   "source": [
    "# Generate dataframe with API\n"
   ]
  },
  {
   "cell_type": "code",
   "execution_count": null,
   "id": "608eaffd",
   "metadata": {},
   "outputs": [],
   "source": []
  },
  {
   "cell_type": "code",
   "execution_count": null,
   "id": "8185e40e",
   "metadata": {},
   "outputs": [],
   "source": [
    "# output the file as picture\n",
    "plt.savefig(\"Output/Geographical_Analysis.png\")"
   ]
  },
  {
   "cell_type": "markdown",
   "id": "7597e87d",
   "metadata": {},
   "source": [
    "## Research Question 2: Key Word Analysis"
   ]
  },
  {
   "cell_type": "code",
   "execution_count": null,
   "id": "8be6c450",
   "metadata": {},
   "outputs": [],
   "source": [
    "# Generate dataframe with API\n"
   ]
  },
  {
   "cell_type": "code",
   "execution_count": null,
   "id": "eb15395b",
   "metadata": {},
   "outputs": [],
   "source": []
  },
  {
   "cell_type": "code",
   "execution_count": null,
   "id": "5104cec5",
   "metadata": {},
   "outputs": [],
   "source": [
    "# output the file as picture\n",
    "plt.savefig(\"Output/KeyWord.png\")"
   ]
  },
  {
   "cell_type": "markdown",
   "id": "deadb019",
   "metadata": {},
   "source": [
    "## Research Question 3: Competition Analysis"
   ]
  },
  {
   "cell_type": "code",
   "execution_count": null,
   "id": "46057926",
   "metadata": {},
   "outputs": [],
   "source": [
    "# Generate dataframe with API\n"
   ]
  },
  {
   "cell_type": "code",
   "execution_count": null,
   "id": "54ac51e2",
   "metadata": {},
   "outputs": [],
   "source": []
  },
  {
   "cell_type": "code",
   "execution_count": null,
   "id": "a7676fb3",
   "metadata": {},
   "outputs": [],
   "source": [
    "# output the file as picture\n",
    "plt.savefig(\"Output/Competition.png\")"
   ]
  }
 ],
 "metadata": {
  "kernelspec": {
   "display_name": "Python 3 (ipykernel)",
   "language": "python",
   "name": "python3"
  },
  "language_info": {
   "codemirror_mode": {
    "name": "ipython",
    "version": 3
   },
   "file_extension": ".py",
   "mimetype": "text/x-python",
   "name": "python",
   "nbconvert_exporter": "python",
   "pygments_lexer": "ipython3",
   "version": "3.11.5"
  }
 },
 "nbformat": 4,
 "nbformat_minor": 5
}
